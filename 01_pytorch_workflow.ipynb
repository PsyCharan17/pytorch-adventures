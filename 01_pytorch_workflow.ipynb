{
  "nbformat": 4,
  "nbformat_minor": 0,
  "metadata": {
    "colab": {
      "private_outputs": true,
      "provenance": [],
      "authorship_tag": "ABX9TyNk2NzY8Y4ja1iEZN41DGZu",
      "include_colab_link": true
    },
    "kernelspec": {
      "name": "python3",
      "display_name": "Python 3"
    },
    "language_info": {
      "name": "python"
    }
  },
  "cells": [
    {
      "cell_type": "markdown",
      "metadata": {
        "id": "view-in-github",
        "colab_type": "text"
      },
      "source": [
        "<a href=\"https://colab.research.google.com/github/PsyCharan17/pytorch-adventures/blob/main/01_pytorch_workflow.ipynb\" target=\"_parent\"><img src=\"https://colab.research.google.com/assets/colab-badge.svg\" alt=\"Open In Colab\"/></a>"
      ]
    },
    {
      "cell_type": "code",
      "execution_count": null,
      "metadata": {
        "id": "SzPUmNxaaVVa"
      },
      "outputs": [],
      "source": [
        "import torch\n",
        "from torch import nn\n",
        "import matplotlib.pyplot as plt"
      ]
    },
    {
      "cell_type": "markdown",
      "source": [
        "Data preparing and loading"
      ],
      "metadata": {
        "id": "7kYrmqHqJtte"
      }
    },
    {
      "cell_type": "markdown",
      "source": [
        "Linear regression implementation"
      ],
      "metadata": {
        "id": "tExKZbOkKaaX"
      }
    },
    {
      "cell_type": "code",
      "source": [
        "# create known parameters\n",
        "weight = 0.7\n",
        "bias = 0.3\n",
        "\n",
        "# create\n",
        "start =0\n",
        "end =1\n",
        "step =0.02\n",
        "X = torch.arange(start,end ,step).unsqueeze(dim=1)\n",
        "y = weight * X + bias\n",
        "\n",
        "\n",
        "X[40:50] , y[40:50] , X.shape , y.shape"
      ],
      "metadata": {
        "id": "kax8Da4oJphT"
      },
      "execution_count": null,
      "outputs": []
    },
    {
      "cell_type": "code",
      "source": [
        "train_split = int(0.8 *len(X))\n",
        "X_train , y_train = X[:train_split] , y[:train_split]\n",
        "X_test , y_test = X[train_split:] , y[train_split:]"
      ],
      "metadata": {
        "id": "t2gHOgl-LLEu"
      },
      "execution_count": null,
      "outputs": []
    },
    {
      "cell_type": "code",
      "source": [
        "X_test , y_test"
      ],
      "metadata": {
        "id": "RUuhR7p2LaBS"
      },
      "execution_count": null,
      "outputs": []
    },
    {
      "cell_type": "code",
      "source": [
        "def plot_predictions(train_data = X_train,\n",
        "                     train_labels = y_train,\n",
        "                     test_data = X_test,\n",
        "                     test_labels = y_test,\n",
        "                     predictions=None):\n",
        "  plt.figure(figsize=(10,7))\n",
        "  plt.scatter(train_data,train_labels,c=\"b\",s=4,label=\"Training data\")\n",
        "  plt.scatter(test_data,test_labels,c=\"g\",s=4,label=\"Testing data\")\n",
        "  if predictions is not None:\n",
        "    plt.scatter(test_data,predictions,c=\"r\",s=4, label=\"Predictions\")\n",
        "\n",
        "  plt.legend(prop={\"size\":14})\n"
      ],
      "metadata": {
        "id": "aTsx877YLaay"
      },
      "execution_count": null,
      "outputs": []
    },
    {
      "cell_type": "code",
      "source": [
        "plot_predictions()"
      ],
      "metadata": {
        "id": "xduaGQluM0tZ"
      },
      "execution_count": null,
      "outputs": []
    },
    {
      "cell_type": "code",
      "source": [
        "class LinearRegresionModel(nn.Module):\n",
        "  def __init__(self):\n",
        "    super().__init__()\n",
        "    self.weights = nn.Parameter(torch.randn(1,requires_grad = True, dtype = torch.float))\n",
        "    self.bias = nn.Parameter(torch.randn(1, requires_grad=True, dtype=torch.float))\n",
        "\n",
        "  def forward(self,x:torch.Tensor) -> torch.Tensor:\n",
        "    return self.weights * x + self.bias\n",
        "\n"
      ],
      "metadata": {
        "id": "pE7CFE6BM00z"
      },
      "execution_count": null,
      "outputs": []
    },
    {
      "cell_type": "markdown",
      "source": [
        "### Pytorch model building essentials\n",
        "* torch.nn\n",
        "* torch.nn.Parameter\n",
        "* torch.nn.Module\n",
        "* torch.optim\n",
        "* def forward() - all nn.Module subclasses require you to overwrite forward() , this defines what happens in the forward computation"
      ],
      "metadata": {
        "id": "C8HPS23B6_OH"
      }
    },
    {
      "cell_type": "code",
      "source": [
        "torch.manual_seed(42)\n",
        "\n",
        "model0 = LinearRegresionModel()\n",
        "list(model0.parameters())"
      ],
      "metadata": {
        "id": "kt2Qjq-LM09P"
      },
      "execution_count": null,
      "outputs": []
    },
    {
      "cell_type": "code",
      "source": [
        "model0.state_dict()"
      ],
      "metadata": {
        "id": "b5YNEJDH7mHd"
      },
      "execution_count": null,
      "outputs": []
    },
    {
      "cell_type": "code",
      "source": [
        "# X_train,X_test"
      ],
      "metadata": {
        "id": "kDvvEum2A1Mu"
      },
      "execution_count": null,
      "outputs": []
    },
    {
      "cell_type": "code",
      "source": [
        "#making predictions using torch.inference_mode()\n",
        "with torch.inference_mode():\n",
        "  y_preds = model0(X_test)\n",
        "y_preds"
      ],
      "metadata": {
        "id": "41YrqJoT7mO5"
      },
      "execution_count": null,
      "outputs": []
    },
    {
      "cell_type": "code",
      "source": [
        "plot_predictions(predictions=y_preds)"
      ],
      "metadata": {
        "id": "SKJ92Cex7mWz"
      },
      "execution_count": null,
      "outputs": []
    },
    {
      "cell_type": "code",
      "source": [
        "model0"
      ],
      "metadata": {
        "id": "TKUjVxauM1FD"
      },
      "execution_count": null,
      "outputs": []
    },
    {
      "cell_type": "code",
      "source": [
        "#setting up a loss function\n",
        "loss_fn = nn.L1Loss()\n",
        "\n",
        "#setting up stochacstic gradiient descent (SGD)\n",
        "optimizer = torch.optim.SGD(params = model0.parameters(),lr=0.01)\n"
      ],
      "metadata": {
        "id": "86JG309ZEf7d"
      },
      "execution_count": null,
      "outputs": []
    },
    {
      "cell_type": "markdown",
      "source": [
        "### Building the training loop\n",
        "* loop through the data\n",
        "* forward pass (data moving through our model's forward() functions) to make predictions on data\n",
        "* calculate the loss (compare the forward pass predictions to the ground truth)\n",
        "* optimize zero grad\n",
        "* loss backward - move through the network to calculate the gradients of each of the parameters of our model with respect to the loss ( backpropagation)\n",
        "* optimizer step - use the optimizer to adjust model's parameters to try and reduce the loss (gradient descent)"
      ],
      "metadata": {
        "id": "fyUOEkkvNbGE"
      }
    },
    {
      "cell_type": "code",
      "source": [
        "# building a training loop\n",
        "%%time\n",
        "epochs =200\n",
        "\n",
        "\n",
        "epoch_count =[]\n",
        "loss_values =[]\n",
        "test_loss_values =[]\n",
        "\n",
        "for epoch in range(epochs):\n",
        "  model0.train()\n",
        "\n",
        "  # 1. Forward pass\n",
        "  y_pred = model0(X_train)\n",
        "\n",
        "  # 2. Calculate the loss\n",
        "  loss = loss_fn(y_pred,y_train)\n",
        "\n",
        "  # 3. optimize zero grad\n",
        "  optimizer.zero_grad()\n",
        "\n",
        "  # 4. loss backward\n",
        "  loss.backward()\n",
        "\n",
        "  # 5. optimizer step\n",
        "  optimizer.step()\n",
        "\n",
        "  model0.eval() # turns off different settings not needed in the model not needed for evaluation/testing\n",
        "  print(model0.state_dict())\n",
        "\n",
        "  with torch.inference_mode():\n",
        "    test_pred = model0(X_test)\n",
        "    test_loss = loss_fn(test_pred,y_test)\n",
        "\n",
        "    if epoch % 10 == 0:\n",
        "      epoch_count.append(epoch)\n",
        "      loss_values.append(loss)\n",
        "      test_loss_values.append(test_loss)\n",
        "      print(f\"Epoch: {epoch} | Loss: {loss} | Test loss: {test_loss}\")\n",
        "      print(model0.state_dict())\n"
      ],
      "metadata": {
        "id": "_CGIjcn0BzPX"
      },
      "execution_count": null,
      "outputs": []
    },
    {
      "cell_type": "code",
      "source": [
        "import numpy as np\n",
        "\n",
        "# loss_values = np.array([lv.detach().cpu().numpy() for lv in loss_values]) #detach() detaches the tensor from the computation graph and cpu() moves the tensor to cpu if its on gpu\n",
        "loss_values = torch.tensor(loss_values).cpu().numpy()\n",
        "loss_values"
      ],
      "metadata": {
        "id": "tt2whMXIRaBB"
      },
      "execution_count": null,
      "outputs": []
    },
    {
      "cell_type": "code",
      "source": [
        "plt.plot(epoch_count,loss_values,label=\"Train Loss\")\n",
        "plt.plot(epoch_count,test_loss_values,label=\"Test Loss\")\n",
        "plt.title(\"Training and Testing Loss\")\n",
        "plt.ylabel(\"Loss\")\n",
        "plt.xlabel(\"Epochs\")\n",
        "plt.legend()"
      ],
      "metadata": {
        "id": "TtI6Re8_R6lx"
      },
      "execution_count": null,
      "outputs": []
    },
    {
      "cell_type": "code",
      "source": [
        "weight , bias"
      ],
      "metadata": {
        "id": "KhZNxJBtWknf"
      },
      "execution_count": null,
      "outputs": []
    },
    {
      "cell_type": "code",
      "source": [
        "plot_predictions(predictions = test_pred)"
      ],
      "metadata": {
        "id": "0IW4KvuoXSaq"
      },
      "execution_count": null,
      "outputs": []
    },
    {
      "cell_type": "code",
      "source": [],
      "metadata": {
        "id": "AoI9mBkiBzXL"
      },
      "execution_count": null,
      "outputs": []
    },
    {
      "cell_type": "code",
      "source": [],
      "metadata": {
        "id": "VUtgRnreBzga"
      },
      "execution_count": null,
      "outputs": []
    },
    {
      "cell_type": "code",
      "source": [],
      "metadata": {
        "id": "7sqN3qQ9M1Mc"
      },
      "execution_count": null,
      "outputs": []
    },
    {
      "cell_type": "code",
      "source": [],
      "metadata": {
        "id": "GkFpXrLWX7B0"
      },
      "execution_count": null,
      "outputs": []
    },
    {
      "cell_type": "code",
      "source": [],
      "metadata": {
        "id": "0iSg37zHM1Td"
      },
      "execution_count": null,
      "outputs": []
    },
    {
      "cell_type": "code",
      "source": [],
      "metadata": {
        "id": "EyFNyb9mM1a1"
      },
      "execution_count": null,
      "outputs": []
    }
  ]
}