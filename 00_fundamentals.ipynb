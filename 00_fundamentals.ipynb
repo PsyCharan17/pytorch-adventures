{
  "nbformat": 4,
  "nbformat_minor": 0,
  "metadata": {
    "colab": {
      "private_outputs": true,
      "provenance": [],
      "authorship_tag": "ABX9TyMNb27ZBpQT0kGxSDv9l0TN",
      "include_colab_link": true
    },
    "kernelspec": {
      "name": "python3",
      "display_name": "Python 3"
    },
    "language_info": {
      "name": "python"
    }
  },
  "cells": [
    {
      "cell_type": "markdown",
      "metadata": {
        "id": "view-in-github",
        "colab_type": "text"
      },
      "source": [
        "<a href=\"https://colab.research.google.com/github/PsyCharan17/pytorch-adventures/blob/main/00_fundamentals.ipynb\" target=\"_parent\"><img src=\"https://colab.research.google.com/assets/colab-badge.svg\" alt=\"Open In Colab\"/></a>"
      ]
    },
    {
      "cell_type": "markdown",
      "source": [
        "### Resource Notebook :https://www.learnpytorch.io/"
      ],
      "metadata": {
        "id": "5d1dDCsTl7Kp"
      }
    },
    {
      "cell_type": "code",
      "execution_count": null,
      "metadata": {
        "id": "xAAGny-hcKKX"
      },
      "outputs": [],
      "source": [
        "import torch\n",
        "import pandas as pd\n",
        "import numpy as np\n",
        "import matplotlib.pyplot as plt\n",
        "print(torch.__version__)\n"
      ]
    },
    {
      "cell_type": "code",
      "source": [
        "# pytorch tensor documentation: https://pytorch.org/docs/stable/tensors.html\n",
        "#scalar\n",
        "scalar = torch.tensor(7)\n",
        "scalar\n"
      ],
      "metadata": {
        "id": "vwM54rwDkhCD"
      },
      "execution_count": null,
      "outputs": []
    },
    {
      "cell_type": "code",
      "source": [
        "scalar.ndim"
      ],
      "metadata": {
        "id": "OfUcEdNIi75K"
      },
      "execution_count": null,
      "outputs": []
    },
    {
      "cell_type": "code",
      "source": [
        "scalar.item() # returns tensor back as int"
      ],
      "metadata": {
        "id": "XyDyUYdRjDJ4"
      },
      "execution_count": null,
      "outputs": []
    },
    {
      "cell_type": "code",
      "source": [
        "#vector\n",
        "vector = torch.tensor([7,17])\n",
        "vector"
      ],
      "metadata": {
        "id": "kSuWQI_3jDST"
      },
      "execution_count": null,
      "outputs": []
    },
    {
      "cell_type": "code",
      "source": [
        "vector.ndim"
      ],
      "metadata": {
        "id": "txWQfgBhjDbl"
      },
      "execution_count": null,
      "outputs": []
    },
    {
      "cell_type": "code",
      "source": [
        "matrix1 = torch.tensor([[[5,6]]], dtype = torch.float32)\n",
        "print(matrix1)\n",
        "matrix1.ndim"
      ],
      "metadata": {
        "id": "b3DT1MLopVtr"
      },
      "execution_count": null,
      "outputs": []
    },
    {
      "cell_type": "code",
      "source": [
        "matrix1"
      ],
      "metadata": {
        "id": "H7ch8V3yrJ2P"
      },
      "execution_count": null,
      "outputs": []
    },
    {
      "cell_type": "code",
      "source": [
        "matrix1.shape"
      ],
      "metadata": {
        "id": "kgyMJYAsped3"
      },
      "execution_count": null,
      "outputs": []
    },
    {
      "cell_type": "code",
      "source": [
        "matrix1.element_size() # returns the size of individual element in bytes\n"
      ],
      "metadata": {
        "id": "bUgR4nXgpr6M"
      },
      "execution_count": null,
      "outputs": []
    },
    {
      "cell_type": "code",
      "source": [
        "MATRIX = torch.tensor([[7,8],[9,10],[11,12]])\n",
        "MATRIX"
      ],
      "metadata": {
        "id": "cej6pPGRqBno"
      },
      "execution_count": null,
      "outputs": []
    },
    {
      "cell_type": "code",
      "source": [
        "MATRIX.ndim"
      ],
      "metadata": {
        "id": "0jPcfVnpq1Cs"
      },
      "execution_count": null,
      "outputs": []
    },
    {
      "cell_type": "code",
      "source": [
        "MATRIX[0]"
      ],
      "metadata": {
        "id": "qLcjpaSjq1KO"
      },
      "execution_count": null,
      "outputs": []
    },
    {
      "cell_type": "code",
      "source": [
        "MATRIX.shape"
      ],
      "metadata": {
        "id": "sXy1MnE3q1R8"
      },
      "execution_count": null,
      "outputs": []
    },
    {
      "cell_type": "code",
      "source": [
        "TENSOR = torch.tensor([[[1,2,3],\n",
        "                        [4,5,6],\n",
        "                        [7,8,9]],\n",
        "                        [[51,52,53],\n",
        "                        [54,55,56],\n",
        "                        [57,58,59]]])\n",
        "TENSOR"
      ],
      "metadata": {
        "id": "HcjWtLXxrU6A"
      },
      "execution_count": null,
      "outputs": []
    },
    {
      "cell_type": "code",
      "source": [
        "TENSOR.ndim"
      ],
      "metadata": {
        "id": "3qPbwkcCraiT"
      },
      "execution_count": null,
      "outputs": []
    },
    {
      "cell_type": "code",
      "source": [
        "TENSOR.shape"
      ],
      "metadata": {
        "id": "wgzv7tc4rbDN"
      },
      "execution_count": null,
      "outputs": []
    },
    {
      "cell_type": "code",
      "source": [
        "TENSOR[1][1][2]"
      ],
      "metadata": {
        "id": "CbFe4i34rbI8"
      },
      "execution_count": null,
      "outputs": []
    },
    {
      "cell_type": "markdown",
      "source": [
        "#### Random Tensors"
      ],
      "metadata": {
        "id": "y_aNR3YYs6Ee"
      }
    },
    {
      "cell_type": "code",
      "source": [
        "random_tensors = torch.rand(3,4)\n",
        "random_tensors"
      ],
      "metadata": {
        "id": "3swTfJPRrbOK"
      },
      "execution_count": null,
      "outputs": []
    },
    {
      "cell_type": "code",
      "source": [
        "random_tensors.ndim"
      ],
      "metadata": {
        "id": "EFAOpeC_uBYy"
      },
      "execution_count": null,
      "outputs": []
    },
    {
      "cell_type": "code",
      "source": [
        "rnd_tensor = torch.rand(3,4,5)\n",
        "rnd_tensor"
      ],
      "metadata": {
        "id": "0cUZKHXkuDzp"
      },
      "execution_count": null,
      "outputs": []
    },
    {
      "cell_type": "code",
      "source": [
        "rnd_tensor.ndim"
      ],
      "metadata": {
        "id": "E07wD2Ewgynw"
      },
      "execution_count": null,
      "outputs": []
    },
    {
      "cell_type": "markdown",
      "source": [
        "### Zeros and ones"
      ],
      "metadata": {
        "id": "J26D62VwhYA1"
      }
    },
    {
      "cell_type": "code",
      "source": [
        "zero_tensor = torch.zeros(3,4)\n",
        "zero_tensor"
      ],
      "metadata": {
        "id": "aRrgTjthgzAb"
      },
      "execution_count": null,
      "outputs": []
    },
    {
      "cell_type": "code",
      "source": [
        "new_tensor = random_tensors * zero_tensor\n",
        "new_tensor"
      ],
      "metadata": {
        "id": "eb7MMIhigzEq"
      },
      "execution_count": null,
      "outputs": []
    },
    {
      "cell_type": "code",
      "source": [
        "ones = torch.ones(3,4)\n",
        "ones"
      ],
      "metadata": {
        "id": "b0TMMRuRgzIN"
      },
      "execution_count": null,
      "outputs": []
    },
    {
      "cell_type": "code",
      "source": [
        "one_to_ten = torch.arange(start=1,end=11, step =1)\n",
        "one_to_ten"
      ],
      "metadata": {
        "id": "TtcgDZe0gzOO"
      },
      "execution_count": null,
      "outputs": []
    },
    {
      "cell_type": "code",
      "source": [
        "one_to_fifty = torch.range(1,50,48)\n",
        "one_to_fifty"
      ],
      "metadata": {
        "id": "AlfHSikJnu3e"
      },
      "execution_count": null,
      "outputs": []
    },
    {
      "cell_type": "code",
      "source": [
        "ten_zeros = torch.zeros_like(one_to_ten)\n",
        "ten_zeros"
      ],
      "metadata": {
        "id": "DH5LvMFHgzRW"
      },
      "execution_count": null,
      "outputs": []
    },
    {
      "cell_type": "markdown",
      "source": [
        "### Tensor Datatypes"
      ],
      "metadata": {
        "id": "3y5oipy1kAx8"
      }
    },
    {
      "cell_type": "code",
      "source": [
        "float_32_tensor = torch.tensor([3.0,5.0,7.0],\n",
        "                               dtype=torch.float32,\n",
        "                               device=None,\n",
        "                               requires_grad=False)\n",
        "float_32_tensor"
      ],
      "metadata": {
        "id": "4NJHA3IVgzap"
      },
      "execution_count": null,
      "outputs": []
    },
    {
      "cell_type": "code",
      "source": [
        "float_32_tensor.dtype"
      ],
      "metadata": {
        "id": "oGkZWSwegzhL"
      },
      "execution_count": null,
      "outputs": []
    },
    {
      "cell_type": "code",
      "source": [
        "float_16_tensor  = float_32_tensor.type(torch.float16)\n",
        "float_16_tensor"
      ],
      "metadata": {
        "id": "B6oRM11ggzkD"
      },
      "execution_count": null,
      "outputs": []
    },
    {
      "cell_type": "code",
      "source": [
        "# x = torch.zeros(5, requires_grad=True)\n",
        "# with torch.no_grad():\n",
        "#   y = x*2\n",
        "# y.requires_grad"
      ],
      "metadata": {
        "id": "j9_U36KXgznN"
      },
      "execution_count": null,
      "outputs": []
    },
    {
      "cell_type": "code",
      "source": [
        "(float_16_tensor * float_32_tensor).dtype"
      ],
      "metadata": {
        "id": "KXur1RTYgzqQ"
      },
      "execution_count": null,
      "outputs": []
    },
    {
      "cell_type": "code",
      "source": [
        "int_32_tensor = torch.tensor([3,5,7], dtype=torch.int32)\n",
        "print(int_32_tensor * float_16_tensor)\n",
        "print((int_32_tensor * float_16_tensor).element_size())"
      ],
      "metadata": {
        "id": "6snVY_hSgztQ"
      },
      "execution_count": null,
      "outputs": []
    },
    {
      "cell_type": "code",
      "source": [
        "print(int_32_tensor.element_size())\n",
        "print(float_16_tensor.element_size())\n"
      ],
      "metadata": {
        "id": "dQKVdJvCEkEe"
      },
      "execution_count": null,
      "outputs": []
    },
    {
      "cell_type": "markdown",
      "source": [
        "### Manipulating Tensors\n",
        "\n",
        "Tensor opearations include:\n",
        "1. Addition\n",
        "2. Subtraction\n",
        "3. Multiplication (element wise)\n",
        "4. Division\n",
        "5. Matrix Multiplication"
      ],
      "metadata": {
        "id": "pSEwzK7Cuxk7"
      }
    },
    {
      "cell_type": "code",
      "source": [
        "tensor = torch.tensor([[1,3,5],[7,8,9]], dtype = torch.float32)\n",
        "tensor2 = torch.tensor(torch.rand(3,2))\n",
        "tensor2"
      ],
      "metadata": {
        "id": "ctKLvwn0gzwM"
      },
      "execution_count": null,
      "outputs": []
    },
    {
      "cell_type": "code",
      "source": [
        "# tensor = tensor *10\n",
        "# tensor"
      ],
      "metadata": {
        "id": "Zp1y-DOmgzzJ"
      },
      "execution_count": null,
      "outputs": []
    },
    {
      "cell_type": "markdown",
      "source": [
        "### Matrix Multiplication"
      ],
      "metadata": {
        "id": "udwYI7qfwmxo"
      }
    },
    {
      "cell_type": "code",
      "source": [
        "tensor.shape"
      ],
      "metadata": {
        "id": "JFb3q0vmyz-C"
      },
      "execution_count": null,
      "outputs": []
    },
    {
      "cell_type": "code",
      "source": [
        "print(f\"{tensor} * {tensor2}\")"
      ],
      "metadata": {
        "id": "JJmM_Lha1-GU"
      },
      "execution_count": null,
      "outputs": []
    },
    {
      "cell_type": "code",
      "source": [
        "torch.matmul(tensor , tensor2)\n"
      ],
      "metadata": {
        "id": "p6KrSrfRj6IZ"
      },
      "execution_count": null,
      "outputs": []
    },
    {
      "cell_type": "code",
      "source": [
        "print(tensor.shape)\n",
        "print(tensor2.shape)\n",
        "print(len(tensor))\n",
        "print(len(tensor2))"
      ],
      "metadata": {
        "id": "OTl-RKV63Eva"
      },
      "execution_count": null,
      "outputs": []
    },
    {
      "cell_type": "code",
      "source": [
        "ans = torch.matmul(tensor,tensor2)\n",
        "ans\n"
      ],
      "metadata": {
        "id": "Wy7S7z3h3UFH"
      },
      "execution_count": null,
      "outputs": []
    },
    {
      "cell_type": "code",
      "source": [
        "def matmul(tensor):\n",
        "    value = 0\n",
        "    for i in range(len(tensor)):\n",
        "        value += (tensor[i] * tensor[i])\n",
        "    return value\n",
        "matmul(tensor)"
      ],
      "metadata": {
        "id": "Xvlan9zrj6QO"
      },
      "execution_count": null,
      "outputs": []
    },
    {
      "cell_type": "code",
      "source": [
        "def matmul2(tensor, tensor2):\n",
        "    result = [[0] * len(tensor2[0]) for _ in range(len(tensor))]  # Initialize result matrix\n",
        "    print(result)\n",
        "    for i in range(len(tensor)):  # Iterate over rows of first matrix\n",
        "        for j in range(len(tensor2[0])):  # Iterate over columns of second matrix\n",
        "            for k in range(len(tensor2)):  # Iterate over shared dimension\n",
        "                result[i][j] += tensor[i][k] * tensor2[k][j]  # Dot product\n",
        "\n",
        "    return result\n"
      ],
      "metadata": {
        "id": "uoTGw6_6aLUT"
      },
      "execution_count": null,
      "outputs": []
    },
    {
      "cell_type": "code",
      "source": [
        "torch.__version__"
      ],
      "metadata": {
        "id": "3aesxXeKj6Z0"
      },
      "execution_count": null,
      "outputs": []
    },
    {
      "cell_type": "code",
      "source": [
        "matmul2(tensor,tensor2)"
      ],
      "metadata": {
        "id": "LQ2BDklpgz1x"
      },
      "execution_count": null,
      "outputs": []
    },
    {
      "cell_type": "code",
      "source": [
        "torch.matmul(torch.rand(3,10),torch.rand(10,3))"
      ],
      "metadata": {
        "id": "fw65jOeswNSJ"
      },
      "execution_count": null,
      "outputs": []
    },
    {
      "cell_type": "markdown",
      "source": [
        "Transposing"
      ],
      "metadata": {
        "id": "CbLoSvd9hx6u"
      }
    },
    {
      "cell_type": "code",
      "source": [
        "tensor_A = torch.tensor([[1,2],\n",
        "                        [3,4],\n",
        "                        [5,6]])\n",
        "tensor_B = torch.tensor([[7,10],\n",
        "                        [8,11],\n",
        "                        [9,12]])"
      ],
      "metadata": {
        "id": "PNzNbsQXwNOs"
      },
      "execution_count": null,
      "outputs": []
    },
    {
      "cell_type": "code",
      "source": [
        "torch.matmul(tensor_A,tensor_B.T)"
      ],
      "metadata": {
        "id": "FDLFBzLwwNMX"
      },
      "execution_count": null,
      "outputs": []
    },
    {
      "cell_type": "code",
      "source": [],
      "metadata": {
        "id": "zlmnO1MSFbIW"
      },
      "execution_count": null,
      "outputs": []
    },
    {
      "cell_type": "code",
      "source": [
        "tensor1 = torch.randn(5, 3, 4)\n",
        "tensor2 = torch.randn(5, 4, 5)\n",
        "mul = torch.matmul(tensor1, tensor2)\n",
        "print(mul)\n",
        "print(mul.size())"
      ],
      "metadata": {
        "id": "AV0h2No1wNJQ"
      },
      "execution_count": null,
      "outputs": []
    },
    {
      "cell_type": "markdown",
      "source": [
        "FInding min , max mean, sum"
      ],
      "metadata": {
        "id": "rNbs9zjtj4I9"
      }
    },
    {
      "cell_type": "code",
      "source": [
        "x = torch.arange(0,100,10)\n",
        "print(x)\n",
        "print(x.dtype)"
      ],
      "metadata": {
        "id": "BBLjsTbVwNGS"
      },
      "execution_count": null,
      "outputs": []
    },
    {
      "cell_type": "code",
      "source": [
        "torch.min(x) , x.min()"
      ],
      "metadata": {
        "id": "KhgJU1JSwNDS"
      },
      "execution_count": null,
      "outputs": []
    },
    {
      "cell_type": "code",
      "source": [
        "torch.max(x) , x.max()"
      ],
      "metadata": {
        "id": "GeUD6kxCwNAY"
      },
      "execution_count": null,
      "outputs": []
    },
    {
      "cell_type": "code",
      "source": [
        "torch.mean(x.type(torch.float32)) #torch.mean() requeires float datatype"
      ],
      "metadata": {
        "id": "rwaPu83uwM9p"
      },
      "execution_count": null,
      "outputs": []
    },
    {
      "cell_type": "code",
      "source": [
        "x.sum()"
      ],
      "metadata": {
        "id": "WSBzZ-aYwM6e"
      },
      "execution_count": null,
      "outputs": []
    },
    {
      "cell_type": "code",
      "source": [
        "a= torch.randn(1,4,2)\n",
        "a"
      ],
      "metadata": {
        "id": "WgDx9qQxwM3X"
      },
      "execution_count": null,
      "outputs": []
    },
    {
      "cell_type": "code",
      "source": [
        "print(f'Shape of a is {a.shape}')\n",
        "print(a[0][0])\n",
        "print(sum(a[0][0])/ len(a[0][0]))"
      ],
      "metadata": {
        "id": "ARmcbh2S2VDi"
      },
      "execution_count": null,
      "outputs": []
    },
    {
      "cell_type": "code",
      "source": [
        "torch.mean(a,2, keepdim=True)"
      ],
      "metadata": {
        "id": "lX1aRST3wM0c"
      },
      "execution_count": null,
      "outputs": []
    },
    {
      "cell_type": "markdown",
      "source": [
        "Finding the positional min and max"
      ],
      "metadata": {
        "id": "hcTGfEOE31wk"
      }
    },
    {
      "cell_type": "code",
      "source": [
        "x"
      ],
      "metadata": {
        "id": "zcWABNefwMxL"
      },
      "execution_count": null,
      "outputs": []
    },
    {
      "cell_type": "code",
      "source": [
        "x.argmin() , x.argmax()"
      ],
      "metadata": {
        "id": "G0wu-o8FwMtp"
      },
      "execution_count": null,
      "outputs": []
    },
    {
      "cell_type": "markdown",
      "source": [
        "Reshaping , stacking squeezing and unsqueezing tensors\n",
        "* Reshaping - reshapes an input tensor to a defined shape\n",
        "* View - return a view of an input tensor but kepe the same memory as input tensor\n",
        "* Stacking - combine multiple tensors on top of each other (vstack) or side by side(hstack)\n",
        "* Squeeze - removes all `1` dimensions from a tensor\n",
        "* Unsqueeze - add  `1` dimension to a target tensor\n",
        "* Permute - return a view of the input with dimensions permuted(swapped) in a certain way"
      ],
      "metadata": {
        "id": "gpVCK-6X588E"
      }
    },
    {
      "cell_type": "code",
      "source": [
        "import torch\n",
        "x = torch.arange(1.,11.)\n",
        "y = torch.arange(20,30, dtype = torch.float32)\n",
        "x , x.shape , y, y.dtype"
      ],
      "metadata": {
        "id": "Mg1ggANqwMhi"
      },
      "execution_count": null,
      "outputs": []
    },
    {
      "cell_type": "code",
      "source": [
        "x_reshaped = x.reshape(2,5)\n",
        "x_reshaped , x_reshaped.shape"
      ],
      "metadata": {
        "id": "X_S1YF7A7FVt"
      },
      "execution_count": null,
      "outputs": []
    },
    {
      "cell_type": "code",
      "source": [
        "z = x.view(1,10)\n",
        "z , z.shape"
      ],
      "metadata": {
        "id": "3JqTHLmM7Ff0"
      },
      "execution_count": null,
      "outputs": []
    },
    {
      "cell_type": "code",
      "source": [
        "z[:, 0] = 7\n",
        "z ,x"
      ],
      "metadata": {
        "id": "cfhsePIaJQg5"
      },
      "execution_count": null,
      "outputs": []
    },
    {
      "cell_type": "code",
      "source": [
        "x_stacked = torch.stack([x,x,x], dim =0) #similar to torch.vstack (stack it vertically)\n",
        "x_stacked = torch.stack([x,x,x], dim =1) #similar to torch.hstack (stack it horizontally)\n",
        "x_stacked"
      ],
      "metadata": {
        "id": "MN-4whow7Fpd"
      },
      "execution_count": null,
      "outputs": []
    },
    {
      "cell_type": "code",
      "source": [
        "n = torch.randn(3,1,4)\n",
        "print(n)\n",
        "print(n.shape)\n",
        "n = torch.squeeze(n,1)\n",
        "n , n.shape"
      ],
      "metadata": {
        "id": "nQeBSjnsKomi"
      },
      "execution_count": null,
      "outputs": []
    },
    {
      "cell_type": "code",
      "source": [
        "x =torch.zeros(2,1,2,1,2)\n",
        "print(x)\n",
        "print(x.size())\n",
        "y = torch.squeeze(x)\n",
        "y, y.shape"
      ],
      "metadata": {
        "id": "7N4sKrdEKoyQ"
      },
      "execution_count": null,
      "outputs": []
    },
    {
      "cell_type": "code",
      "source": [
        "x1 = torch.tensor([[1,2,3,4]])\n",
        "print(x1.dim())\n",
        "torch.unsqueeze(x1,2)"
      ],
      "metadata": {
        "id": "Te0xmiuhKo9B"
      },
      "execution_count": null,
      "outputs": []
    },
    {
      "cell_type": "code",
      "source": [
        "x_reshaped = x_reshaped.reshape(1,10)\n",
        "x_reshaped"
      ],
      "metadata": {
        "id": "X4ayJWfMKpG5"
      },
      "execution_count": null,
      "outputs": []
    },
    {
      "cell_type": "code",
      "source": [
        "print(x_reshaped.shape)"
      ],
      "metadata": {
        "id": "bT3a3ast7Fzg"
      },
      "execution_count": null,
      "outputs": []
    },
    {
      "cell_type": "code",
      "source": [
        "x_squeezed  = x_reshaped.squeeze()\n",
        "x_squeezed , x_squeezed.shape"
      ],
      "metadata": {
        "id": "hA5eO2KemM3_"
      },
      "execution_count": null,
      "outputs": []
    },
    {
      "cell_type": "code",
      "source": [
        "x_unsqueezed = x_squeezed.unsqueeze(dim=0)\n",
        "x_unsqueezed , x_unsqueezed.shape"
      ],
      "metadata": {
        "id": "9uCO5JvImV5E"
      },
      "execution_count": null,
      "outputs": []
    },
    {
      "cell_type": "code",
      "source": [
        "x_original = torch.rand(size=(224,224,3))\n",
        "x_original.shape"
      ],
      "metadata": {
        "id": "8gntDSPNmnzq"
      },
      "execution_count": null,
      "outputs": []
    },
    {
      "cell_type": "code",
      "source": [
        "x_permuted = torch.permute(x_original, (2,0,1))\n",
        "x_permuted.shape"
      ],
      "metadata": {
        "id": "5_VC_pHGmoOQ"
      },
      "execution_count": null,
      "outputs": []
    },
    {
      "cell_type": "code",
      "source": [
        " x_original[0,0,0] = 7\n",
        " x_original[0,0,0] , x_permuted[0,0,0]"
      ],
      "metadata": {
        "id": "ygxRfPARmoVa"
      },
      "execution_count": null,
      "outputs": []
    },
    {
      "cell_type": "markdown",
      "source": [
        "Indexing"
      ],
      "metadata": {
        "id": "n68KUuMxqBro"
      }
    },
    {
      "cell_type": "code",
      "source": [
        "x = torch.arange(1,10).reshape(1,3,3)\n",
        "x , x.shape\n"
      ],
      "metadata": {
        "id": "ffH1aDofmoeH"
      },
      "execution_count": null,
      "outputs": []
    },
    {
      "cell_type": "code",
      "source": [
        "x[0][1][0]"
      ],
      "metadata": {
        "id": "x0byOXmaowpb"
      },
      "execution_count": null,
      "outputs": []
    },
    {
      "cell_type": "code",
      "source": [
        "x[:,1,0]"
      ],
      "metadata": {
        "id": "HzeWEByeow0L"
      },
      "execution_count": null,
      "outputs": []
    },
    {
      "cell_type": "code",
      "source": [
        "x[:,:,2]"
      ],
      "metadata": {
        "id": "rb2Jr8TMoxDQ"
      },
      "execution_count": null,
      "outputs": []
    },
    {
      "cell_type": "code",
      "source": [
        "x[:,2,2]"
      ],
      "metadata": {
        "id": "CJtC0UHyqYRF"
      },
      "execution_count": null,
      "outputs": []
    },
    {
      "cell_type": "code",
      "source": [
        "x[:,1,:]"
      ],
      "metadata": {
        "id": "LKK6vS64qbMd"
      },
      "execution_count": null,
      "outputs": []
    },
    {
      "cell_type": "code",
      "source": [
        "x[:,:,:]"
      ],
      "metadata": {
        "id": "MmBO0B27ui3S"
      },
      "execution_count": null,
      "outputs": []
    },
    {
      "cell_type": "code",
      "source": [
        "x"
      ],
      "metadata": {
        "id": "4xHINaxmqhqz"
      },
      "execution_count": null,
      "outputs": []
    },
    {
      "cell_type": "code",
      "source": [
        "#Find the average of every column in a tensor\n",
        "torch.mean(x.type(torch.float32),dim=1)"
      ],
      "metadata": {
        "id": "l0ayNbZkub2a"
      },
      "execution_count": null,
      "outputs": []
    },
    {
      "cell_type": "code",
      "source": [
        "#Combining M * N tensor and a M * M tensor into a M * (M + N) tensor\n",
        "a = torch.randn(2,3)\n",
        "b = torch.randn(2,2)\n",
        "a,b"
      ],
      "metadata": {
        "id": "IMe00lnvumJq"
      },
      "execution_count": null,
      "outputs": []
    },
    {
      "cell_type": "code",
      "source": [
        "a = torch.cat((a,b),dim=1)\n",
        "a , (a.shape[0]*a.shape[1])//2"
      ],
      "metadata": {
        "id": "5mZhs8XJwwME"
      },
      "execution_count": null,
      "outputs": []
    },
    {
      "cell_type": "code",
      "source": [
        "#Reshape a M * N tensor into a (M.N//2) * 2 tensor\n",
        "v = a.reshape((a.shape[0]*a.shape[1])//2,2)\n",
        "v , v.shape"
      ],
      "metadata": {
        "id": "6fJLpuTfwwSb"
      },
      "execution_count": null,
      "outputs": []
    },
    {
      "cell_type": "markdown",
      "source": [
        "Pytorch and Numpy"
      ],
      "metadata": {
        "id": "HxJ8HLRP7wDy"
      }
    },
    {
      "cell_type": "code",
      "source": [],
      "metadata": {
        "id": "sBcbUWMNyUpV"
      },
      "execution_count": null,
      "outputs": []
    },
    {
      "cell_type": "code",
      "source": [],
      "metadata": {
        "id": "ARD_Jy9g1m2w"
      },
      "execution_count": null,
      "outputs": []
    },
    {
      "cell_type": "code",
      "source": [],
      "metadata": {
        "id": "CV1j9N0r1nGp"
      },
      "execution_count": null,
      "outputs": []
    },
    {
      "cell_type": "code",
      "source": [],
      "metadata": {
        "id": "kVa_a7Qa1nP4"
      },
      "execution_count": null,
      "outputs": []
    },
    {
      "cell_type": "code",
      "source": [],
      "metadata": {
        "id": "L-JCkBIP1nZz"
      },
      "execution_count": null,
      "outputs": []
    },
    {
      "cell_type": "code",
      "source": [],
      "metadata": {
        "id": "5bTecrmo1niP"
      },
      "execution_count": null,
      "outputs": []
    }
  ]
}