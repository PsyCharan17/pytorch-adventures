{
  "nbformat": 4,
  "nbformat_minor": 0,
  "metadata": {
    "colab": {
      "private_outputs": true,
      "provenance": [],
      "authorship_tag": "ABX9TyMVlqjNE5Q7N87INhKcTo7W",
      "include_colab_link": true
    },
    "kernelspec": {
      "name": "python3",
      "display_name": "Python 3"
    },
    "language_info": {
      "name": "python"
    }
  },
  "cells": [
    {
      "cell_type": "markdown",
      "metadata": {
        "id": "view-in-github",
        "colab_type": "text"
      },
      "source": [
        "<a href=\"https://colab.research.google.com/github/PsyCharan17/pytorch-adventures/blob/main/00_fundamentals.ipynb\" target=\"_parent\"><img src=\"https://colab.research.google.com/assets/colab-badge.svg\" alt=\"Open In Colab\"/></a>"
      ]
    },
    {
      "cell_type": "markdown",
      "source": [
        "### Resource Notebook :https://www.learnpytorch.io/"
      ],
      "metadata": {
        "id": "5d1dDCsTl7Kp"
      }
    },
    {
      "cell_type": "code",
      "execution_count": null,
      "metadata": {
        "id": "xAAGny-hcKKX"
      },
      "outputs": [],
      "source": [
        "import torch\n",
        "import pandas as pd\n",
        "import numpy as np\n",
        "import matplotlib.pyplot as plt\n",
        "print(torch.__version__)\n"
      ]
    },
    {
      "cell_type": "code",
      "source": [
        "# pytorch tensor documentation: https://pytorch.org/docs/stable/tensors.html\n",
        "#scalar\n",
        "scalar = torch.tensor(7)\n",
        "scalar\n"
      ],
      "metadata": {
        "id": "vwM54rwDkhCD"
      },
      "execution_count": null,
      "outputs": []
    },
    {
      "cell_type": "code",
      "source": [
        "scalar.ndim"
      ],
      "metadata": {
        "id": "OfUcEdNIi75K"
      },
      "execution_count": null,
      "outputs": []
    },
    {
      "cell_type": "code",
      "source": [
        "scalar.item() # returns tensor back as int"
      ],
      "metadata": {
        "id": "XyDyUYdRjDJ4"
      },
      "execution_count": null,
      "outputs": []
    },
    {
      "cell_type": "code",
      "source": [
        "#vector\n",
        "vector = torch.tensor([7,17])\n",
        "vector"
      ],
      "metadata": {
        "id": "kSuWQI_3jDST"
      },
      "execution_count": null,
      "outputs": []
    },
    {
      "cell_type": "code",
      "source": [
        "vector.ndim"
      ],
      "metadata": {
        "id": "txWQfgBhjDbl"
      },
      "execution_count": null,
      "outputs": []
    },
    {
      "cell_type": "code",
      "source": [
        "vector1 = torch.tensor([[5,6],[2,3],[5,3]])\n",
        "print(vector1)\n",
        "vector1.ndim"
      ],
      "metadata": {
        "id": "b3DT1MLopVtr"
      },
      "execution_count": null,
      "outputs": []
    },
    {
      "cell_type": "code",
      "source": [
        "vector1"
      ],
      "metadata": {
        "id": "H7ch8V3yrJ2P"
      },
      "execution_count": null,
      "outputs": []
    },
    {
      "cell_type": "code",
      "source": [
        "vector1.shape"
      ],
      "metadata": {
        "id": "kgyMJYAsped3"
      },
      "execution_count": null,
      "outputs": []
    },
    {
      "cell_type": "code",
      "source": [
        "vector1.element_size() # returns the size of individual element in bytes\n"
      ],
      "metadata": {
        "id": "bUgR4nXgpr6M"
      },
      "execution_count": null,
      "outputs": []
    },
    {
      "cell_type": "code",
      "source": [
        "MATRIX = torch.tensor([[7,8],[9,10],[11,12]])\n",
        "MATRIX"
      ],
      "metadata": {
        "id": "cej6pPGRqBno"
      },
      "execution_count": null,
      "outputs": []
    },
    {
      "cell_type": "code",
      "source": [
        "MATRIX.ndim"
      ],
      "metadata": {
        "id": "0jPcfVnpq1Cs"
      },
      "execution_count": null,
      "outputs": []
    },
    {
      "cell_type": "code",
      "source": [
        "MATRIX[0]"
      ],
      "metadata": {
        "id": "qLcjpaSjq1KO"
      },
      "execution_count": null,
      "outputs": []
    },
    {
      "cell_type": "code",
      "source": [
        "MATRIX.shape"
      ],
      "metadata": {
        "id": "sXy1MnE3q1R8"
      },
      "execution_count": null,
      "outputs": []
    },
    {
      "cell_type": "code",
      "source": [
        "TENSOR = torch.tensor([[[1,2,3],\n",
        "                        [4,5,6],\n",
        "                        [7,8,9]],\n",
        "                        [[51,52,53],\n",
        "                        [54,55,56],\n",
        "                        [57,58,59]]])\n",
        "TENSOR"
      ],
      "metadata": {
        "id": "HcjWtLXxrU6A"
      },
      "execution_count": null,
      "outputs": []
    },
    {
      "cell_type": "code",
      "source": [
        "TENSOR.ndim"
      ],
      "metadata": {
        "id": "3qPbwkcCraiT"
      },
      "execution_count": null,
      "outputs": []
    },
    {
      "cell_type": "code",
      "source": [
        "TENSOR.shape"
      ],
      "metadata": {
        "id": "wgzv7tc4rbDN"
      },
      "execution_count": null,
      "outputs": []
    },
    {
      "cell_type": "code",
      "source": [
        "TENSOR[1][1][2]"
      ],
      "metadata": {
        "id": "CbFe4i34rbI8"
      },
      "execution_count": null,
      "outputs": []
    },
    {
      "cell_type": "markdown",
      "source": [
        "#### Random Tensors"
      ],
      "metadata": {
        "id": "y_aNR3YYs6Ee"
      }
    },
    {
      "cell_type": "code",
      "source": [
        "random_tensors = torch.rand(3,4)\n",
        "random_tensors"
      ],
      "metadata": {
        "id": "3swTfJPRrbOK"
      },
      "execution_count": null,
      "outputs": []
    },
    {
      "cell_type": "code",
      "source": [
        "random_tensors.ndim"
      ],
      "metadata": {
        "id": "EFAOpeC_uBYy"
      },
      "execution_count": null,
      "outputs": []
    },
    {
      "cell_type": "code",
      "source": [
        "rnd_tensor = torch.rand(3,4,5)\n",
        "rnd_tensor"
      ],
      "metadata": {
        "id": "0cUZKHXkuDzp"
      },
      "execution_count": null,
      "outputs": []
    },
    {
      "cell_type": "code",
      "source": [
        "rnd_tensor.ndim"
      ],
      "metadata": {
        "id": "E07wD2Ewgynw"
      },
      "execution_count": null,
      "outputs": []
    },
    {
      "cell_type": "markdown",
      "source": [
        "### Zeros and ones"
      ],
      "metadata": {
        "id": "J26D62VwhYA1"
      }
    },
    {
      "cell_type": "code",
      "source": [
        "zero_tensor = torch.zeros(3,4)\n",
        "zero_tensor"
      ],
      "metadata": {
        "id": "aRrgTjthgzAb"
      },
      "execution_count": null,
      "outputs": []
    },
    {
      "cell_type": "code",
      "source": [
        "new_tensor = random_tensors * zero_tensor\n",
        "new_tensor"
      ],
      "metadata": {
        "id": "eb7MMIhigzEq"
      },
      "execution_count": null,
      "outputs": []
    },
    {
      "cell_type": "code",
      "source": [
        "ones = torch.ones(3,4)\n",
        "ones"
      ],
      "metadata": {
        "id": "b0TMMRuRgzIN"
      },
      "execution_count": null,
      "outputs": []
    },
    {
      "cell_type": "code",
      "source": [
        "one_to_ten = torch.arange(start=1,end=11, step =1)\n",
        "one_to_ten"
      ],
      "metadata": {
        "id": "TtcgDZe0gzOO"
      },
      "execution_count": null,
      "outputs": []
    },
    {
      "cell_type": "code",
      "source": [
        "one_to_fifty = torch.range(1,50,48)\n",
        "one_to_fifty"
      ],
      "metadata": {
        "id": "AlfHSikJnu3e"
      },
      "execution_count": null,
      "outputs": []
    },
    {
      "cell_type": "code",
      "source": [
        "ten_zeros = torch.zeros_like(one_to_ten)\n",
        "ten_zeros"
      ],
      "metadata": {
        "id": "DH5LvMFHgzRW"
      },
      "execution_count": null,
      "outputs": []
    },
    {
      "cell_type": "markdown",
      "source": [
        "### Tensor Datatypes"
      ],
      "metadata": {
        "id": "3y5oipy1kAx8"
      }
    },
    {
      "cell_type": "code",
      "source": [
        "float_32_tensor = torch.tensor([3.0,5.0,7.0],\n",
        "                               dtype=torch.float32,\n",
        "                               device=None,\n",
        "                               requires_grad=False)\n",
        "float_32_tensor"
      ],
      "metadata": {
        "id": "4NJHA3IVgzap"
      },
      "execution_count": null,
      "outputs": []
    },
    {
      "cell_type": "code",
      "source": [
        "float_32_tensor.dtype"
      ],
      "metadata": {
        "id": "oGkZWSwegzhL"
      },
      "execution_count": null,
      "outputs": []
    },
    {
      "cell_type": "code",
      "source": [
        "float_16_tensor  = float_32_tensor.type(torch.float16)\n",
        "float_16_tensor"
      ],
      "metadata": {
        "id": "B6oRM11ggzkD"
      },
      "execution_count": null,
      "outputs": []
    },
    {
      "cell_type": "code",
      "source": [
        "# x = torch.zeros(5, requires_grad=True)\n",
        "# with torch.no_grad():\n",
        "#   y = x*2\n",
        "# y.requires_grad"
      ],
      "metadata": {
        "id": "j9_U36KXgznN"
      },
      "execution_count": null,
      "outputs": []
    },
    {
      "cell_type": "code",
      "source": [
        "(float_16_tensor * float_32_tensor).dtype"
      ],
      "metadata": {
        "id": "KXur1RTYgzqQ"
      },
      "execution_count": null,
      "outputs": []
    },
    {
      "cell_type": "code",
      "source": [
        "int_32_tensor = torch.tensor([3,5,7], dtype=torch.int32)\n",
        "int_32_tensor * float_16_tensor"
      ],
      "metadata": {
        "id": "6snVY_hSgztQ"
      },
      "execution_count": null,
      "outputs": []
    },
    {
      "cell_type": "markdown",
      "source": [
        "### Manipulating Tensors\n",
        "\n",
        "Tensor opearations include:\n",
        "1. Addition\n",
        "2. Subtraction\n",
        "3. Multiplication (element wise)\n",
        "4. Division\n",
        "5. Matrix Multiplication"
      ],
      "metadata": {
        "id": "pSEwzK7Cuxk7"
      }
    },
    {
      "cell_type": "code",
      "source": [
        "tensor = torch.tensor([[1,3,5],[7,8,9]], dtype = torch.float32)\n",
        "tensor2 = torch.tensor(torch.rand(3,2))\n",
        "tensor2"
      ],
      "metadata": {
        "id": "ctKLvwn0gzwM"
      },
      "execution_count": null,
      "outputs": []
    },
    {
      "cell_type": "code",
      "source": [
        "# tensor = tensor *10\n",
        "# tensor"
      ],
      "metadata": {
        "id": "Zp1y-DOmgzzJ"
      },
      "execution_count": null,
      "outputs": []
    },
    {
      "cell_type": "markdown",
      "source": [
        "### Matrix Multiplication"
      ],
      "metadata": {
        "id": "udwYI7qfwmxo"
      }
    },
    {
      "cell_type": "code",
      "source": [
        "tensor.shape"
      ],
      "metadata": {
        "id": "JFb3q0vmyz-C"
      },
      "execution_count": null,
      "outputs": []
    },
    {
      "cell_type": "code",
      "source": [
        "print(f\"{tensor} * {tensor2}\")"
      ],
      "metadata": {
        "id": "JJmM_Lha1-GU"
      },
      "execution_count": null,
      "outputs": []
    },
    {
      "cell_type": "code",
      "source": [
        "torch.matmul(tensor , tensor2)\n"
      ],
      "metadata": {
        "id": "p6KrSrfRj6IZ"
      },
      "execution_count": null,
      "outputs": []
    },
    {
      "cell_type": "code",
      "source": [
        "print(tensor.shape)\n",
        "print(tensor2.shape)\n",
        "print(len(tensor))\n",
        "print(len(tensor2))"
      ],
      "metadata": {
        "id": "OTl-RKV63Eva"
      },
      "execution_count": null,
      "outputs": []
    },
    {
      "cell_type": "code",
      "source": [
        "ans = torch.matmul(tensor,tensor2)\n",
        "ans\n"
      ],
      "metadata": {
        "id": "Wy7S7z3h3UFH"
      },
      "execution_count": null,
      "outputs": []
    },
    {
      "cell_type": "code",
      "source": [
        "def matmul(tensor):\n",
        "    value = 0\n",
        "    for i in range(len(tensor)):\n",
        "        value += (tensor[i] * tensor[i])\n",
        "    return value\n",
        "matmul(tensor)"
      ],
      "metadata": {
        "id": "Xvlan9zrj6QO"
      },
      "execution_count": null,
      "outputs": []
    },
    {
      "cell_type": "code",
      "source": [
        "def matmul2(tensor, tensor2):\n",
        "    result = [[0] * len(tensor2[0]) for _ in range(len(tensor))]  # Initialize result matrix\n",
        "    print(result)\n",
        "    for i in range(len(tensor)):  # Iterate over rows of first matrix\n",
        "        for j in range(len(tensor2[0])):  # Iterate over columns of second matrix\n",
        "            for k in range(len(tensor2)):  # Iterate over shared dimension\n",
        "                result[i][j] += tensor[i][k] * tensor2[k][j]  # Dot product\n",
        "\n",
        "    return result\n"
      ],
      "metadata": {
        "id": "uoTGw6_6aLUT"
      },
      "execution_count": null,
      "outputs": []
    },
    {
      "cell_type": "code",
      "source": [
        "torch.__version__"
      ],
      "metadata": {
        "id": "3aesxXeKj6Z0"
      },
      "execution_count": null,
      "outputs": []
    },
    {
      "cell_type": "code",
      "source": [
        "matmul2(tensor,tensor2)"
      ],
      "metadata": {
        "id": "LQ2BDklpgz1x"
      },
      "execution_count": null,
      "outputs": []
    },
    {
      "cell_type": "code",
      "source": [
        "torch.matmul(torch.rand(3,10),torch.rand(10,3))"
      ],
      "metadata": {
        "id": "fw65jOeswNSJ"
      },
      "execution_count": null,
      "outputs": []
    },
    {
      "cell_type": "code",
      "source": [],
      "metadata": {
        "id": "PNzNbsQXwNOs"
      },
      "execution_count": null,
      "outputs": []
    },
    {
      "cell_type": "code",
      "source": [],
      "metadata": {
        "id": "FDLFBzLwwNMX"
      },
      "execution_count": null,
      "outputs": []
    },
    {
      "cell_type": "code",
      "source": [],
      "metadata": {
        "id": "AV0h2No1wNJQ"
      },
      "execution_count": null,
      "outputs": []
    },
    {
      "cell_type": "code",
      "source": [],
      "metadata": {
        "id": "BBLjsTbVwNGS"
      },
      "execution_count": null,
      "outputs": []
    },
    {
      "cell_type": "code",
      "source": [],
      "metadata": {
        "id": "KhgJU1JSwNDS"
      },
      "execution_count": null,
      "outputs": []
    },
    {
      "cell_type": "code",
      "source": [],
      "metadata": {
        "id": "GeUD6kxCwNAY"
      },
      "execution_count": null,
      "outputs": []
    },
    {
      "cell_type": "code",
      "source": [],
      "metadata": {
        "id": "rwaPu83uwM9p"
      },
      "execution_count": null,
      "outputs": []
    },
    {
      "cell_type": "code",
      "source": [],
      "metadata": {
        "id": "WSBzZ-aYwM6e"
      },
      "execution_count": null,
      "outputs": []
    },
    {
      "cell_type": "code",
      "source": [],
      "metadata": {
        "id": "WgDx9qQxwM3X"
      },
      "execution_count": null,
      "outputs": []
    },
    {
      "cell_type": "code",
      "source": [],
      "metadata": {
        "id": "lX1aRST3wM0c"
      },
      "execution_count": null,
      "outputs": []
    },
    {
      "cell_type": "code",
      "source": [],
      "metadata": {
        "id": "zcWABNefwMxL"
      },
      "execution_count": null,
      "outputs": []
    },
    {
      "cell_type": "code",
      "source": [],
      "metadata": {
        "id": "G0wu-o8FwMtp"
      },
      "execution_count": null,
      "outputs": []
    },
    {
      "cell_type": "code",
      "source": [],
      "metadata": {
        "id": "Mg1ggANqwMhi"
      },
      "execution_count": null,
      "outputs": []
    }
  ]
}