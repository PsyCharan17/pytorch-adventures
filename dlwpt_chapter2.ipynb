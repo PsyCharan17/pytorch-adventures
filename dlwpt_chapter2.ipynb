{
  "nbformat": 4,
  "nbformat_minor": 0,
  "metadata": {
    "colab": {
      "private_outputs": true,
      "provenance": [],
      "authorship_tag": "ABX9TyOImFEJHJIhgF+y5uCpCQMQ",
      "include_colab_link": true
    },
    "kernelspec": {
      "name": "python3",
      "display_name": "Python 3"
    },
    "language_info": {
      "name": "python"
    }
  },
  "cells": [
    {
      "cell_type": "markdown",
      "metadata": {
        "id": "view-in-github",
        "colab_type": "text"
      },
      "source": [
        "<a href=\"https://colab.research.google.com/github/PsyCharan17/pytorch-adventures/blob/main/dlwpt_chapter2.ipynb\" target=\"_parent\"><img src=\"https://colab.research.google.com/assets/colab-badge.svg\" alt=\"Open In Colab\"/></a>"
      ]
    },
    {
      "cell_type": "code",
      "execution_count": null,
      "metadata": {
        "id": "_CILtuNsdSM_"
      },
      "outputs": [],
      "source": [
        "# from torchvision import models\n",
        "import torch"
      ]
    },
    {
      "cell_type": "code",
      "source": [
        "dir(models)"
      ],
      "metadata": {
        "id": "KnZyHKYadait"
      },
      "execution_count": null,
      "outputs": []
    },
    {
      "cell_type": "code",
      "source": [
        "alexnet = models.AlexNet"
      ],
      "metadata": {
        "id": "rdIH2iPDdaoy"
      },
      "execution_count": null,
      "outputs": []
    },
    {
      "cell_type": "code",
      "source": [
        "resnet = models.resnet101(pretrained=True)"
      ],
      "metadata": {
        "id": "zYYWI3fldavB"
      },
      "execution_count": null,
      "outputs": []
    },
    {
      "cell_type": "code",
      "source": [
        "resnet"
      ],
      "metadata": {
        "id": "czLjwc55mebL"
      },
      "execution_count": null,
      "outputs": []
    },
    {
      "cell_type": "code",
      "source": [
        "from torchvision import transforms\n",
        "preprocess = transforms.Compose([\n",
        "    transforms.Resize(256),\n",
        "    transforms.CenterCrop(224),\n",
        "    transforms.ToTensor(),\n",
        "    transforms.Normalize(\n",
        "        mean=[0.485,0.456,0.406],\n",
        "        std=[0.229,0.224,0.225]\n",
        "    )\n",
        "])"
      ],
      "metadata": {
        "id": "JR8cQQpymeja"
      },
      "execution_count": null,
      "outputs": []
    },
    {
      "cell_type": "code",
      "source": [
        "from PIL import Image\n",
        "img = '/content/eiffel tower.jpg'\n",
        "img = '/content/lion.jpg'\n",
        "img = Image.open(img)"
      ],
      "metadata": {
        "id": "8GsrXtCnpcRM"
      },
      "execution_count": null,
      "outputs": []
    },
    {
      "cell_type": "code",
      "source": [
        "img_t = preprocess(img)"
      ],
      "metadata": {
        "id": "m5iHHarEpcWM"
      },
      "execution_count": null,
      "outputs": []
    },
    {
      "cell_type": "code",
      "source": [
        "import torch\n",
        "batch_t = torch.unsqueeze(img_t,0)"
      ],
      "metadata": {
        "id": "drSTjNCTmez7"
      },
      "execution_count": null,
      "outputs": []
    },
    {
      "cell_type": "code",
      "source": [
        "resnet.eval()"
      ],
      "metadata": {
        "id": "PCFWwLD6qp7E"
      },
      "execution_count": null,
      "outputs": []
    },
    {
      "cell_type": "code",
      "source": [
        "out = resnet(batch_t)\n"
      ],
      "metadata": {
        "id": "oI0XC2uIqqCL"
      },
      "execution_count": null,
      "outputs": []
    },
    {
      "cell_type": "code",
      "source": [
        "out.shape"
      ],
      "metadata": {
        "id": "xhcw8uVIrGZ3"
      },
      "execution_count": null,
      "outputs": []
    },
    {
      "cell_type": "code",
      "source": [
        "with open('/content/imagenet_classes.txt') as f:\n",
        "  labels = [line.strip() for line in f.readlines()]"
      ],
      "metadata": {
        "id": "KminNeblrGdv"
      },
      "execution_count": null,
      "outputs": []
    },
    {
      "cell_type": "code",
      "source": [
        "_, index = torch.max(out,1)\n",
        "index"
      ],
      "metadata": {
        "id": "rAiOc6EtsCi8"
      },
      "execution_count": null,
      "outputs": []
    },
    {
      "cell_type": "code",
      "source": [
        "percentage = torch.nn.functional.softmax(out, dim=1)[0] * 100\n",
        "labels[index[0]], percentage[index[0]].item()"
      ],
      "metadata": {
        "id": "Nr1OA1IzsiZz"
      },
      "execution_count": null,
      "outputs": []
    },
    {
      "cell_type": "code",
      "source": [
        "_ , indices= torch.sort(out, descending=True)\n",
        "[(labels[idx], percentage[idx].item()) for idx in indices[0][:5]]"
      ],
      "metadata": {
        "id": "rOakoq3osi0b"
      },
      "execution_count": null,
      "outputs": []
    },
    {
      "cell_type": "code",
      "source": [
        "indices"
      ],
      "metadata": {
        "id": "Q9KmqCHIsi3h"
      },
      "execution_count": null,
      "outputs": []
    },
    {
      "cell_type": "code",
      "source": [
        "a = torch.ones(3)\n",
        "a"
      ],
      "metadata": {
        "id": "kjTWbCmk327H"
      },
      "execution_count": null,
      "outputs": []
    },
    {
      "cell_type": "code",
      "source": [
        "points = torch.tensor([[4.0,1.0],[5.0,3.0],[2.0,1.0]])\n",
        "points , points[0][1]"
      ],
      "metadata": {
        "id": "fd6M28zY59nl"
      },
      "execution_count": null,
      "outputs": []
    },
    {
      "cell_type": "code",
      "source": [
        "points.shape , points[1:,:]"
      ],
      "metadata": {
        "id": "2VvGv_kV-bDW"
      },
      "execution_count": null,
      "outputs": []
    },
    {
      "cell_type": "code",
      "source": [
        "p2 =torch.tensor([[[1.0,2.0],[3.0,4.0]]])\n",
        "p2.shape , p2[:,:,1]\n",
        "\n"
      ],
      "metadata": {
        "id": "Bi_jH6Ry-bLc"
      },
      "execution_count": null,
      "outputs": []
    },
    {
      "cell_type": "markdown",
      "source": [
        "21/06/2025"
      ],
      "metadata": {
        "id": "eZcQsTN2Ra4J"
      }
    },
    {
      "cell_type": "code",
      "source": [
        "img_t = torch.randn(3,5,5)\n",
        "weights = torch.tensor([0.2126,0.7152,0.722])\n",
        "batch_t = torch.randn(2,3,5,5) #(batch,channels, rows,columns)\n",
        "weights"
      ],
      "metadata": {
        "id": "ZaDrtszB__BJ"
      },
      "execution_count": null,
      "outputs": []
    },
    {
      "cell_type": "code",
      "source": [
        "img_gray_naive = img_t.mean(-3)\n",
        "batch_gray_naive = batch_t.mean(-3)\n",
        "img_gray_naive.shape , batch_gray_naive.shape , img_gray_naive , batch_gray_naive"
      ],
      "metadata": {
        "id": "0GR21NKw__TX"
      },
      "execution_count": null,
      "outputs": []
    },
    {
      "cell_type": "code",
      "source": [
        "img_t.shape, weights.shape, batch_t.shape"
      ],
      "metadata": {
        "id": "1W_t5uP0VhSv"
      },
      "execution_count": null,
      "outputs": []
    },
    {
      "cell_type": "code",
      "source": [
        "unsqueezed_weights = weights.unsqueeze(-1).unsqueeze_(-1) #creates a copy of the tensor from the original weights tensor. When .unsqueeze(-1) is called it creates a copy of the tensor( Out-of-place) then when .unsqueeze_(-1) is called it creates an In-Place copy\n",
        "# print(f\"shape of unsqueezed weights{unsqueezed_weights.shape}\")\n",
        "img_weights = (img_t * unsqueezed_weights)\n",
        "batch_weights = (batch_t * unsqueezed_weights)\n",
        "img_gray_weighted = img_weights.sum(-3)\n",
        "batch_gray_weighted = batch_weights.sum(-3)\n",
        "print(f\"batch_t shape : {batch_t.shape}\")\n",
        "print(f\"img_t shape : {img_t.shape}\")\n",
        "print(f\"img_weights shape : {img_weights.shape}\")\n",
        "print(f\"unsqueezed_weights shape : {unsqueezed_weights.shape}\")\n",
        "# print(f\"batch_weights shape : {batch_weights.shape}\")\n",
        "print(f\"img_gray_weighted shape : {img_gray_weighted.shape}\")\n",
        "print(f\"batch_gray_weighted shape : {batch_gray_weighted.shape}\")\n",
        "\n",
        "# batch_t.shape, unsqueezed_weights.shape , batch_weights.shape, img_weights.shape"
      ],
      "metadata": {
        "id": "UwVy5kEmSmD5"
      },
      "execution_count": null,
      "outputs": []
    },
    {
      "cell_type": "code",
      "source": [
        "torch.manual_seed(42)\n",
        "tensor_randint = torch.randint(0, 10, (3, 4, 4))\n",
        "tensor_randint_summed = tensor_randint.sum(-3)\n",
        "tensor_randint_summed2 = tensor_randint.sum(-2)\n",
        "tensor_randint_summed3 = tensor_randint.sum(-1)\n",
        "tensor_randint , tensor_randint_summed ,tensor_randint_summed.shape , tensor_randint_summed2 , tensor_randint_summed2.shape , tensor_randint_summed3 , tensor_randint_summed3.shape"
      ],
      "metadata": {
        "id": "voBJUnVqSmIx"
      },
      "execution_count": null,
      "outputs": []
    },
    {
      "cell_type": "code",
      "source": [
        "half_points = torch.tensor([[1,2],[3,4]], dtype=torch.half)\n",
        "half_points"
      ],
      "metadata": {
        "id": "3fia6y0zSmNl"
      },
      "execution_count": null,
      "outputs": []
    },
    {
      "cell_type": "code",
      "source": [
        "a = torch.ones(3,4)\n",
        "a_t = torch.transpose(a,0,1)\n",
        "a.shape, a_t.shape"
      ],
      "metadata": {
        "id": "Qt2B5KJOfWT0"
      },
      "execution_count": null,
      "outputs": []
    },
    {
      "cell_type": "code",
      "source": [
        "c = torch.tensor([1,2,3] )\n",
        "b = torch.asarray(c, copy=True)\n",
        "c.data_ptr() == b.data_ptr()"
      ],
      "metadata": {
        "id": "yK3u92TlfWjq"
      },
      "execution_count": null,
      "outputs": []
    },
    {
      "cell_type": "code",
      "source": [
        "a = torch.tensor([1.,2.,3.], requires_grad=True)\n",
        "b = a+2\n",
        "b\n",
        "c = torch.asarray(b)\n",
        "c\n",
        "d = torch.asarray(b, requires_grad=True)\n",
        "d"
      ],
      "metadata": {
        "id": "OWcdI2MnEvPH"
      },
      "execution_count": null,
      "outputs": []
    },
    {
      "cell_type": "code",
      "source": [
        "#views of another tensors storage\n",
        "points = torch.tensor([[4.,5.],[5.,3.],[2.,1.]])\n",
        "second_point = points[1]\n",
        "second_point.storage_offset() , second_point.size()"
      ],
      "metadata": {
        "id": "zRLmxuL4fWu5"
      },
      "execution_count": null,
      "outputs": []
    },
    {
      "cell_type": "code",
      "source": [
        "#cloning\n",
        "second_point = points[1].clone()\n",
        "second_point[0] = 13\n",
        "second_point, points\n"
      ],
      "metadata": {
        "id": "1RY4Z3mTIZOn"
      },
      "execution_count": null,
      "outputs": []
    },
    {
      "cell_type": "code",
      "source": [
        "#transposing without copying\n",
        "points_t = points.t()\n",
        "print(points)\n",
        "print(points_t)\n",
        "id(points.untyped_storage() ) == id(points_t.untyped_storage() ) #true\n",
        "points.stride(), points_t.stride()\n"
      ],
      "metadata": {
        "id": "hqPMT4wjJtlu"
      },
      "execution_count": null,
      "outputs": []
    },
    {
      "cell_type": "code",
      "source": [
        "points_copy = points.t().contiguous()\n",
        "points.data_ptr() == points_copy.data_ptr() , points_copy.storage()\n"
      ],
      "metadata": {
        "id": "wrzX6QerNwVQ"
      },
      "execution_count": null,
      "outputs": []
    },
    {
      "cell_type": "code",
      "source": [
        "points[1][0] = 7\n",
        "points, points.storage(), points.stride()"
      ],
      "metadata": {
        "id": "5sqKIrewPEdg"
      },
      "execution_count": null,
      "outputs": []
    },
    {
      "cell_type": "code",
      "source": [],
      "metadata": {
        "id": "y64TTt4jQCmt"
      },
      "execution_count": null,
      "outputs": []
    },
    {
      "cell_type": "code",
      "source": [],
      "metadata": {
        "id": "4geTCYfwQC43"
      },
      "execution_count": null,
      "outputs": []
    }
  ]
}